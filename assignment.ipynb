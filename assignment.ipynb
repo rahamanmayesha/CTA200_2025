{
 "cells": [
  {
   "cell_type": "code",
   "execution_count": 11,
   "id": "124911cc-2d10-427b-b166-f380ce04fc81",
   "metadata": {},
   "outputs": [],
   "source": [
    "#Part 1\n",
    "\n",
    "\"\"\"\n",
    "This function calculates x**3 - x**2 -1. \n",
    "Parameters: \n",
    "x ------------------ int or float, any real number\n",
    "Returns:\n",
    "x**3 - x**2 -1 ----- int or float, the quantity of x**3 - x**2 -1 \n",
    "\"\"\"\n",
    "\n",
    "def f(x):\n",
    "    return x**3 - x**2 -1\n",
    "\n",
    "\n",
    "\"\"\"\n",
    "This function calculates the derivative of f.\n",
    "Parameters: \n",
    "x ----------------------- int or float, any real number\n",
    "Returns:\n",
    "the derivative of fx ---- int or float, any real number\n",
    "\"\"\"\n",
    "\n",
    "def df(x):\n",
    "    return 3*(x**2) - 2*x\n"
   ]
  },
  {
   "cell_type": "code",
   "execution_count": 28,
   "id": "df9837c1-2256-4402-abcd-61003ea24d49",
   "metadata": {},
   "outputs": [
    {
     "name": "stdout",
     "output_type": "stream",
     "text": [
      "Iteration failed\n"
     ]
    }
   ],
   "source": [
    "#Part 2\n",
    "\n",
    "\"\"\"\n",
    "This function performs a Newton Iteration of the function f with derivative df\n",
    "Parameters:\n",
    "f -------- function, the function whose root we are trying to find\n",
    "df ------- function, the derivative of f\n",
    "x0 ------- float, the initial guess for the root\n",
    "epsilon -- float, the stopping tolerance (default 1e-6)\n",
    "max_iter - int, the maximum number of iterations (default 30)\n",
    "\n",
    "Returns:\n",
    "root ----- float or None, the estimated root if successful, otherwise None\n",
    "\"\"\"\n",
    "\n",
    "def newton(f, df, x0, epsilon=1e-6, max_iter=30):\n",
    "    i = 0\n",
    "    \n",
    "    while i < max_iter:\n",
    "        y=f(x0)\n",
    "        dy=df(x0)\n",
    "\n",
    "        x1 = x0 - y / dy\n",
    "\n",
    "        if abs(f(x1)) < epsilon:\n",
    "            print(f\"Found root in {i+1} iterations\")\n",
    "            return x1\n",
    "        \n",
    "        x0 = x1\n",
    "        i += 1\n",
    "    \n",
    "    print(\"Iteration failed\")\n",
    "    return None"
   ]
  },
  {
   "cell_type": "code",
   "execution_count": 44,
   "id": "5de1f012-b7bf-4eeb-a9c1-78a5a9c56cbe",
   "metadata": {},
   "outputs": [
    {
     "name": "stdout",
     "output_type": "stream",
     "text": [
      "Example 1 (x0 = -10):\n",
      "Found root in 11 iterations\n",
      "Root: 1.4655712403802628\n",
      "\n",
      "Example 2 (x0 = -1):\n",
      "Found root in 15 iterations\n",
      "Root: 1.4655712348572754\n",
      "\n",
      "Example 3 (x0 = 21, epsilon = 1e-8):\n",
      "Found root in 27 iterations\n",
      "Root: 1.465571231876768\n",
      "The function worked, but took 16 more iterations\n"
     ]
    }
   ],
   "source": [
    "# Part 3 – Try with different initial guesses and epsilons\n",
    "\n",
    "# Example 1: Starting at x0 = 2\n",
    "print(\"Example 1 (x0 = -10):\")\n",
    "root1 = newton(f, df, x0=-21, epsilon=1e-6, max_iter=30)\n",
    "print(\"Root:\", root1)\n",
    "print()\n",
    "\n",
    "# Example 2: Starting at x0 = -1\n",
    "print(\"Example 2 (x0 = -1):\")\n",
    "root2 = newton(f, df, x0=-1, epsilon=1e-6, max_iter=30)\n",
    "print(\"Root:\", root2)\n",
    "print()\n",
    "\n",
    "# Example 3: Smaller epsilon\n",
    "print(\"Example 3 (x0 = 21, epsilon = 1e-8):\")\n",
    "root3 = newton(f, df, x0=-10, epsilon=1e-8, max_iter=30)\n",
    "print(\"Root:\", root3)\n",
    "print(\"The function worked, but took 16 more iterations\")"
   ]
  }
 ],
 "metadata": {
  "kernelspec": {
   "display_name": "Python 3 (ipykernel)",
   "language": "python",
   "name": "python3"
  },
  "language_info": {
   "codemirror_mode": {
    "name": "ipython",
    "version": 3
   },
   "file_extension": ".py",
   "mimetype": "text/x-python",
   "name": "python",
   "nbconvert_exporter": "python",
   "pygments_lexer": "ipython3",
   "version": "3.13.3"
  }
 },
 "nbformat": 4,
 "nbformat_minor": 5
}
