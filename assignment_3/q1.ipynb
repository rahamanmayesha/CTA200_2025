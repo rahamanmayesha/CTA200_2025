{
 "cells": [
  {
   "cell_type": "code",
   "execution_count": null,
   "id": "80eba3e4-30ea-49bf-af24-f684796867e0",
   "metadata": {},
   "outputs": [],
   "source": [
    "import matplotlib.pyplot as plt\n",
    "import numpy as np\n",
    "from iter_func import iter_func\n",
    "\n",
    "xmin, xmax = -2, 2\n",
    "ymin, ymax = -2, 2\n",
    "width, height = 1000, 1000\n",
    "max_iter = 100\n",
    "\n",
    "divergence_steps = iter_func(xmin, xmax, ymin, ymax, width, height, max_iter)\n",
    "\n",
    "plt.figure(figsize=(8, 8))\n",
    "plt.imshow(divergence_steps == max_iter, extent=[xmin, xmax, ymin, ymax], cmap=\"binary\")\n",
    "plt.title(\"Bounded (white) vs Diverged (black)\")\n",
    "plt.xlabel(\"Re(c)\")\n",
    "plt.ylabel(\"Im(c)\")\n",
    "plt.show()\n",
    "\n",
    "plt.figure(figsize=(8, 8))\n",
    "plt.imshow(divergence_steps, extent=[xmin, xmax, ymin, ymax], cmap=\"turbo\", origin=\"lower\")\n",
    "plt.title(\"Divergence Time\")\n",
    "plt.xlabel(\"Re(c)\")\n",
    "plt.ylabel(\"Im(c)\")\n",
    "cbar = plt.colorbar()\n",
    "cbar.set_label(\"Iteration at Divergence\")\n",
    "plt.show()"
   ]
  }
 ],
 "metadata": {
  "kernelspec": {
   "display_name": "Python (myenv)",
   "language": "python",
   "name": "myenv"
  },
  "language_info": {
   "codemirror_mode": {
    "name": "ipython",
    "version": 3
   },
   "file_extension": ".py",
   "mimetype": "text/x-python",
   "name": "python",
   "nbconvert_exporter": "python",
   "pygments_lexer": "ipython3",
   "version": "3.12.3"
  }
 },
 "nbformat": 4,
 "nbformat_minor": 5
}
